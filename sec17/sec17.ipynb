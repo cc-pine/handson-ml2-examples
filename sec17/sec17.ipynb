{
 "cells": [
  {
   "cell_type": "code",
   "execution_count": null,
   "metadata": {},
   "outputs": [],
   "source": []
  }
 ],
 "metadata": {
  "kernelspec": {
   "display_name": "Python 3.8.6 64-bit ('pythontf': conda)",
   "name": "python38664bitpythontfcondac4076d3f3adc4b008246409e46f2d3fa"
  },
  "language_info": {
   "name": "python",
   "version": ""
  },
  "metadata": {
   "interpreter": {
    "hash": "2aebf5b4e5165be826373dd14099bbf56a57a2d9b47fd60776ae8e2f8b6fa510"
   }
  },
  "orig_nbformat": 2
 },
 "nbformat": 4,
 "nbformat_minor": 2
}